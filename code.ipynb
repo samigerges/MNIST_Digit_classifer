{
 "cells": [
  {
   "cell_type": "code",
   "execution_count": 2,
   "metadata": {
    "id": "EG1-hHXosMQ8"
   },
   "outputs": [],
   "source": [
    "import matplotlib.pyplot as plt\n",
    "import numpy as np\n",
    "from keras.datasets import mnist"
   ]
  },
  {
   "cell_type": "markdown",
   "metadata": {
    "id": "kg1AvGst5TMp"
   },
   "source": [
    "**Loading the data**"
   ]
  },
  {
   "cell_type": "code",
   "execution_count": 3,
   "metadata": {
    "id": "YiPbl-fjTlUO"
   },
   "outputs": [],
   "source": [
    "(x_train, y_train), (x_test, y_test) = mnist.load_data()\n",
    "x_train=np.array( x_train,dtype = float )\n",
    "y_train=np.array( y_train,dtype = float )\n",
    "x_test=np.array( x_test,dtype = float )\n",
    "y_test=np.array( y_test,dtype = float)\n"
   ]
  },
  {
   "cell_type": "markdown",
   "metadata": {
    "id": "Hc_tUYnU5cob"
   },
   "source": [
    "**Select classes 0 and 1**"
   ]
  },
  {
   "cell_type": "code",
   "execution_count": 4,
   "metadata": {
    "id": "yX3v2kvtVuAc"
   },
   "outputs": [],
   "source": [
    "xt=[]\n",
    "yt=[]\n",
    "for i in  range(60000):\n",
    "    if ( y_train[i]-1<1 ):\n",
    "        x=x_train[i].reshape(28,28)\n",
    "        xt.append(x)\n",
    "        yt.append(y_train[i])\n",
    "x_train = (xt)\n",
    "y_train = (yt)\n",
    "\n",
    "xt=[]\n",
    "yt=[]\n",
    "for i in  range(10000):\n",
    "    if ( y_test[i]-1<1 ):\n",
    "        x=x_test[i].reshape(28,28)\n",
    "        xt.append(x)\n",
    "        yt.append(y_test[i])\n",
    "x_test = xt\n",
    "y_test = yt  \n",
    "\n",
    "x_train = np.array(x_train,dtype = float)\n",
    "y_train = np.array(y_train,dtype = float)\n",
    "x_test = np.array(x_test,dtype = float)\n",
    "y_test = np.array(y_test,dtype = float)\n",
    " "
   ]
  },
  {
   "cell_type": "code",
   "execution_count": 5,
   "metadata": {
    "id": "EMWoVBfCzYo9"
   },
   "outputs": [],
   "source": [
    "x_train = x_train.reshape(x_train.shape[0],-1)\n",
    "x_test = x_test.reshape(x_test.shape[0],-1) \n"
   ]
  },
  {
   "cell_type": "code",
   "execution_count": 6,
   "metadata": {
    "id": "ozEE1xpWgOoF"
   },
   "outputs": [],
   "source": [
    "#standrize\n",
    "x_train= (x_train - np.mean(x_train))/ np.std(x_train)\n",
    "x_test= (x_test - np.mean(x_test))/ np.std(x_test)\n"
   ]
  },
  {
   "cell_type": "code",
   "execution_count": 7,
   "metadata": {
    "id": "EvKd7fKP2saF"
   },
   "outputs": [],
   "source": [
    "def sigmoid(z):\n",
    "    return (1/(1+np.exp(-z)))\n",
    "\n",
    "def accuracy(x_test,y_test,w,b):\n",
    "    \n",
    "    sz = len(x_test)\n",
    "    z =  np.dot( w.T , x_test.T )+b\n",
    "    ypred = sigmoid(z)\n",
    "    ypred = ypred.T\n",
    "    ypred = np.where(ypred>0.5 , 1 ,0)\n",
    "    y_test=y_test.reshape(sz,1)\n",
    "    ac = np.mean(ypred == y_test)*100\n",
    "\n",
    "    return ac"
   ]
  },
  {
   "cell_type": "markdown",
   "metadata": {
    "id": "0T3Q7vhn4npX"
   },
   "source": [
    "**Logistic regression**"
   ]
  },
  {
   "cell_type": "code",
   "execution_count": 8,
   "metadata": {
    "id": "KDAoHAuAf2yP"
   },
   "outputs": [],
   "source": [
    "def Logistic_regression(x_train , y_train , eta=0.1 , iterations=1000):\n",
    "    \n",
    "    np.random.seed(35)\n",
    "    w = np.random.rand(x_train.shape[1],1)\n",
    "    b = np.random.rand(1)\n",
    "    sz = len(x_train)\n",
    "    error = []\n",
    "    tol = 0.0000001\n",
    "    \n",
    "    y_train = y_train.reshape(y_train.shape[0],1)\n",
    "\n",
    "    for i in range(iterations):\n",
    "        z = np.dot(w.T,x_train.T)+b\n",
    "        phiz = sigmoid(z)\n",
    "        phiz = phiz.T\n",
    "\n",
    "        error.append(np.mean(((-y_train*np.log(phiz+tol))-(((1-y_train)*(np.log((1-phiz)+tol)))))))\n",
    "    \n",
    "        w = w - (eta * (np.dot((phiz - y_train).T , x_train )) / sz).T\n",
    "        b = b - eta * np.mean(phiz - y_train)\n",
    "\n",
    "        if error[i] <= tol:\n",
    "              break \n",
    "    return w,b"
   ]
  },
  {
   "cell_type": "code",
   "execution_count": 9,
   "metadata": {},
   "outputs": [],
   "source": [
    "w , b = Logistic_regression(x_train, y_train)"
   ]
  },
  {
   "cell_type": "code",
   "execution_count": 10,
   "metadata": {},
   "outputs": [
    {
     "name": "stdout",
     "output_type": "stream",
     "text": [
      "99.8581560283688\n"
     ]
    }
   ],
   "source": [
    "print(accuracy(x_test,y_test,w,b))"
   ]
  },
  {
   "cell_type": "code",
   "execution_count": 11,
   "metadata": {
    "id": "RsOBcR2pyj_x"
   },
   "outputs": [],
   "source": [
    "def split(x , k):\n",
    "    fold_size = np.floor(x.shape[0] / k)\n",
    "    folds = []\n",
    "    for i in range(k):\n",
    "        first = int(i * fold_size)\n",
    "        end = int((i+1) * fold_size)\n",
    "        fold = x[first:end]\n",
    "        folds.append(fold)\n",
    "    return folds "
   ]
  },
  {
   "cell_type": "markdown",
   "metadata": {
    "id": "iRkeH5hzZy6x"
   },
   "source": [
    "**10-fold cross validation**"
   ]
  },
  {
   "cell_type": "code",
   "execution_count": null,
   "metadata": {
    "colab": {
     "base_uri": "https://localhost:8080/",
     "height": 294
    },
    "id": "9viesGVkPQz0",
    "outputId": "18142edb-fe65-4154-d533-667f57d925ca"
   },
   "outputs": [],
   "source": [
    "eta=[0.0001 , 0.001 , 0.01 , 0.1] #list of eta to check accuracy for each one and select the one with high accuracy \n",
    "escores=[]\n",
    "\n",
    "for r in range(len(eta)):\n",
    "    k=10\n",
    "    x_folds = split(x_train,k)\n",
    "    y_folds = split(y_train,k)\n",
    "    scores = []\n",
    "\n",
    "    for i in range(k):\n",
    "        X_train = np.concatenate([x_folds[j] for j in range(k) if j != i])\n",
    "        Y_train = np.concatenate([y_folds[j] for j in range(k) if j != i])\n",
    "      \n",
    "        x_val = (x_folds[i])\n",
    "        y_val = (y_folds[i])\n",
    "      \n",
    "        w,b = Logistic_regression(X_train,Y_train,eta[r],1000)    \n",
    "        scores.append(round(accuracy(x_val,y_val,w,b),2))\n",
    "    escores.append(np.mean(scores))\n"
   ]
  },
  {
   "cell_type": "code",
   "execution_count": null,
   "metadata": {
    "id": "dd9L2xjNaeHe"
   },
   "outputs": [],
   "source": [
    "#print accurcy for every learning rate\n",
    "for i in range(len(eta)):\n",
    "    print('we get accuracy = ',(round(escores[i],2)),' %', ' With learning rate = ', eta[i],sep='')"
   ]
  },
  {
   "cell_type": "code",
   "execution_count": null,
   "metadata": {
    "colab": {
     "base_uri": "https://localhost:8080/"
    },
    "id": "j1c0mPkezuvi",
    "outputId": "9b04e015-dd95-4ca9-aef6-e9597659624c"
   },
   "outputs": [],
   "source": [
    "print(str(np.round(accuracy(x_test,y_test,w,b),2))+\"%\")\n"
   ]
  }
 ],
 "metadata": {
  "accelerator": "GPU",
  "colab": {
   "gpuType": "T4",
   "provenance": [],
   "toc_visible": true
  },
  "gpuClass": "standard",
  "kernelspec": {
   "display_name": "Python 3 (ipykernel)",
   "language": "python",
   "name": "python3"
  },
  "language_info": {
   "codemirror_mode": {
    "name": "ipython",
    "version": 3
   },
   "file_extension": ".py",
   "mimetype": "text/x-python",
   "name": "python",
   "nbconvert_exporter": "python",
   "pygments_lexer": "ipython3",
   "version": "3.11.2"
  }
 },
 "nbformat": 4,
 "nbformat_minor": 1
}
